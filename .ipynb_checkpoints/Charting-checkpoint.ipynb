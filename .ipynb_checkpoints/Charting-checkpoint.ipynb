{
 "cells": [
  {
   "cell_type": "code",
   "execution_count": 3,
   "metadata": {},
   "outputs": [],
   "source": [
    "import pandas as pd\n",
    "from datetime import datetime\n",
    "import matplotlib.pyplot as plt\n",
    "import numpy as np\n",
    "import glob"
   ]
  },
  {
   "cell_type": "code",
   "execution_count": null,
   "metadata": {},
   "outputs": [
    {
     "name": "stdout",
     "output_type": "stream",
     "text": [
      "stock_comment_count\\AAPL\n"
     ]
    }
   ],
   "source": [
    "fileList=glob.glob(\"stock_comment_count/*.csv\")\n",
    "\n",
    "for filename in fileList:\n",
    "    stock_data_df=pd.read_csv(filename)\n",
    "    ticker = filename.replace(\"stock_data\\\\\", \"\").replace(\".csv\", \"\")\n",
    "    print(ticker)\n",
    "    stock_data_df.head()\n",
    "\n",
    "    input('g')\n",
    "    reddit_data_df = reddit_data_df[reddit_data_df['date'].isin(stock_data_df[\"Date\"])]\n",
    "\n",
    "    # Create some mock data\n",
    "    t = stock_data_df[\"Date\"]\n",
    "    stock_data = stock_data_df['Close']\n",
    "    reddit_data = stock_data_df['comment_volume]\n",
    "\n",
    "    fig, ax1 = plt.subplots()\n",
    "\n",
    "    color = 'tab:red'\n",
    "    ax1.set_xlabel('time (s)')\n",
    "    ax1.set_ylabel(ticker, color=color)\n",
    "    ax1.plot(t, stock_data, color=color)\n",
    "    ax1.tick_params(axis='y', labelcolor=color)\n",
    "\n",
    "    ax2 = ax1.twinx()  # instantiate a second axes that shares the same x-axis\n",
    "\n",
    "    color = 'tab:blue'\n",
    "    ax2.set_ylabel('Reddit', color=color)  # we already handled the x-label with ax1\n",
    "    ax2.plot(t, reddit_data, color=color)\n",
    "    ax2.tick_params(axis='y', labelcolor=color)\n",
    "\n",
    "    fig.tight_layout()  # otherwise the right y-label is slightly clipped\n",
    "    plt.show()\n"
   ]
  },
  {
   "cell_type": "code",
   "execution_count": null,
   "metadata": {},
   "outputs": [],
   "source": []
  }
 ],
 "metadata": {
  "kernelspec": {
   "display_name": "Python 3",
   "language": "python",
   "name": "python3"
  },
  "language_info": {
   "codemirror_mode": {
    "name": "ipython",
    "version": 3
   },
   "file_extension": ".py",
   "mimetype": "text/x-python",
   "name": "python",
   "nbconvert_exporter": "python",
   "pygments_lexer": "ipython3",
   "version": "3.9.1"
  }
 },
 "nbformat": 4,
 "nbformat_minor": 4
}
